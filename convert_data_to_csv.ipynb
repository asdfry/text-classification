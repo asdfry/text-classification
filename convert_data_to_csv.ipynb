{
 "cells": [
  {
   "attachments": {},
   "cell_type": "markdown",
   "metadata": {},
   "source": [
    "1. https://www.aihub.or.kr/aihubdata/data/view.do?currMenu=115&topMenu=100&dataSetSn=619 접속 후 데이터 중 라벨링데이터만 다운로드 받아 압축 해제\n",
    "2. 현재 위치에 data 폴더 생성 후 안에 train_original, valid_original 라는 이름으로 저장"
   ]
  },
  {
   "cell_type": "code",
   "execution_count": null,
   "metadata": {},
   "outputs": [],
   "source": [
    "import csv\n",
    "import json\n",
    "import pandas as pd\n",
    "from glob import glob"
   ]
  },
  {
   "cell_type": "code",
   "execution_count": null,
   "metadata": {},
   "outputs": [],
   "source": [
    "def convert(target: str):\n",
    "    json_paths = glob(f\"./data/{target}_original/*/*.json\", recursive=True)\n",
    "    csv_path = f\"./data/{target}.csv\"\n",
    "\n",
    "    # Write headers\n",
    "    with open(csv_path, \"w\") as f:\n",
    "        writer = csv.writer(f)\n",
    "        writer.writerow([\"text\", \"label\"])\n",
    "\n",
    "    # Wirte rows\n",
    "    for idx, json_path in enumerate(json_paths):\n",
    "        with open(json_path, \"r\") as f:\n",
    "            json_dict = json.load(f)\n",
    "        with open(csv_path, \"a\") as f:\n",
    "            writer = csv.writer(f)\n",
    "            for doc in json_dict[\"documents\"]:\n",
    "                sequence = doc[\"Q_refined\"].replace(\"\\n\", \"\").strip()\n",
    "                if sequence:\n",
    "                    writer.writerow([sequence, idx])\n",
    "            print(f\"{json_path}\")\n",
    "\n",
    "    df = pd.read_csv(csv_path)\n",
    "    print(f\"Data size: {len(df)}\")"
   ]
  },
  {
   "cell_type": "code",
   "execution_count": null,
   "metadata": {},
   "outputs": [],
   "source": [
    "# Create id_to_label.csv\n",
    "dirs = glob(f\"./data/train_original/*\")\n",
    "labels = [dir.split(\"/\")[-1] for dir in dirs]\n",
    "\n",
    "with open(\"./data/id_to_label.csv\", \"w\") as f:\n",
    "    writer = csv.writer(f)\n",
    "    writer.writerow([\"id\", \"label\"])\n",
    "    for id, label in enumerate(labels):\n",
    "        writer.writerow([id, label])\n",
    "\n",
    "# Create train.csv\n",
    "convert(target=\"train\")\n",
    "\n",
    "# Create valid.csv\n",
    "convert(target=\"valid\")"
   ]
  }
 ],
 "metadata": {
  "kernelspec": {
   "display_name": "base",
   "language": "python",
   "name": "python3"
  },
  "language_info": {
   "codemirror_mode": {
    "name": "ipython",
    "version": 3
   },
   "file_extension": ".py",
   "mimetype": "text/x-python",
   "name": "python",
   "nbconvert_exporter": "python",
   "pygments_lexer": "ipython3",
   "version": "3.10.10"
  },
  "orig_nbformat": 4
 },
 "nbformat": 4,
 "nbformat_minor": 2
}
