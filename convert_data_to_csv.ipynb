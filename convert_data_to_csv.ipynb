{
 "cells": [
  {
   "attachments": {},
   "cell_type": "markdown",
   "metadata": {},
   "source": [
    "1. https://www.aihub.or.kr/aihubdata/data/view.do?currMenu=115&topMenu=100&dataSetSn=619 접속 후 데이터 중 라벨링데이터만 다운로드 받아 압축 해제\n",
    "2. 현재 위치에 data 폴더 생성 후 안에 train_original, valid_original 라는 이름으로 저장"
   ]
  },
  {
   "cell_type": "code",
   "execution_count": 1,
   "metadata": {},
   "outputs": [],
   "source": [
    "import csv\n",
    "import json\n",
    "import pandas as pd\n",
    "from glob import glob"
   ]
  },
  {
   "cell_type": "code",
   "execution_count": 2,
   "metadata": {},
   "outputs": [],
   "source": [
    "def convert(target: str):\n",
    "    json_paths = sorted(glob(f\"./data/{target}_original/*/*.json\", recursive=True))\n",
    "    csv_path = f\"./data/{target}.csv\"\n",
    "\n",
    "    # Write headers\n",
    "    with open(csv_path, \"w\") as f:\n",
    "        writer = csv.writer(f)\n",
    "        writer.writerow([\"text\", \"label\"])\n",
    "\n",
    "    # Wirte rows\n",
    "    for idx, json_path in enumerate(json_paths):\n",
    "        with open(json_path, \"r\") as f:\n",
    "            json_dict = json.load(f)\n",
    "        with open(csv_path, \"a\") as f:\n",
    "            writer = csv.writer(f)\n",
    "            for doc in json_dict[\"documents\"]:\n",
    "                sequence = doc[\"Q_refined\"].replace(\"\\n\", \"\").strip()\n",
    "                if sequence:\n",
    "                    writer.writerow([sequence, idx])\n",
    "            print(f\"{json_path}\")\n",
    "\n",
    "    df = pd.read_csv(csv_path)\n",
    "    print(f\"Data size: {len(df)}\")"
   ]
  },
  {
   "cell_type": "code",
   "execution_count": 3,
   "metadata": {},
   "outputs": [
    {
     "name": "stdout",
     "output_type": "stream",
     "text": [
      "./data/train_original/건축허가/건축허가_57256.json\n",
      "./data/train_original/경제/경제_15725.json\n",
      "./data/train_original/공통/공통_30290.json\n",
      "./data/train_original/교통/교통_85465.json\n",
      "./data/train_original/농업_축산/농업_축산_9392.json\n",
      "./data/train_original/문화_체육_관광/문화_체육_관광_20224.json\n",
      "./data/train_original/보건소/보건소_20008.json\n",
      "./data/train_original/복지/복지_20909.json\n",
      "./data/train_original/산림/산림_26264.json\n",
      "./data/train_original/상하수도/상하수도_17215.json\n",
      "./data/train_original/세무/세무_20500.json\n",
      "./data/train_original/안전건설/안전건설_93747.json\n",
      "./data/train_original/위생/위생_19736.json\n",
      "./data/train_original/자동차/자동차_295107.json\n",
      "./data/train_original/정보통신/정보통신_744.json\n",
      "./data/train_original/토지/토지_6092.json\n",
      "./data/train_original/행정/행정_23197.json\n",
      "./data/train_original/환경미화/환경미화_38129.json\n",
      "Data size: 799997\n",
      "./data/valid_original/건축허가/건축허가_7157.json\n",
      "./data/valid_original/경제/경제_1965.json\n",
      "./data/valid_original/공통/공통_3787.json\n",
      "./data/valid_original/교통/교통_10683.json\n",
      "./data/valid_original/농업_축산/농업_축산_1174.json\n",
      "./data/valid_original/문화_체육_관광/문화_체육_관광_2528.json\n",
      "./data/valid_original/보건소/보건소_2502.json\n",
      "./data/valid_original/복지/복지_2613.json\n",
      "./data/valid_original/산림/산림_3283.json\n",
      "./data/valid_original/상하수도/상하수도_2152.json\n",
      "./data/valid_original/세무/세무_2562.json\n",
      "./data/valid_original/안전건설/안전건설_11719.json\n",
      "./data/valid_original/위생/위생_2467.json\n",
      "./data/valid_original/자동차/자동차_36889.json\n",
      "./data/valid_original/정보통신/정보통신_93.json\n",
      "./data/valid_original/토지/토지_761.json\n",
      "./data/valid_original/행정/행정_2899.json\n",
      "./data/valid_original/환경미화/환경미화_4766.json\n",
      "Data size: 100000\n"
     ]
    }
   ],
   "source": [
    "# Create id_to_label.csv\n",
    "dirs = sorted(glob(f\"./data/train_original/*\"))\n",
    "labels = [dir.split(\"/\")[-1] for dir in dirs]\n",
    "\n",
    "with open(\"./data/id_to_label.csv\", \"w\") as f:\n",
    "    writer = csv.writer(f)\n",
    "    writer.writerow([\"id\", \"label\"])\n",
    "    for id, label in enumerate(labels):\n",
    "        writer.writerow([id, label])\n",
    "\n",
    "# Create train.csv\n",
    "convert(target=\"train\")\n",
    "\n",
    "# Create valid.csv\n",
    "convert(target=\"valid\")"
   ]
  }
 ],
 "metadata": {
  "kernelspec": {
   "display_name": "base",
   "language": "python",
   "name": "python3"
  },
  "language_info": {
   "codemirror_mode": {
    "name": "ipython",
    "version": 3
   },
   "file_extension": ".py",
   "mimetype": "text/x-python",
   "name": "python",
   "nbconvert_exporter": "python",
   "pygments_lexer": "ipython3",
   "version": "3.10.11"
  },
  "orig_nbformat": 4
 },
 "nbformat": 4,
 "nbformat_minor": 2
}
