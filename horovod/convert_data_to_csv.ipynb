{
 "cells": [
  {
   "attachments": {},
   "cell_type": "markdown",
   "metadata": {},
   "source": [
    "1. https://www.aihub.or.kr/aihubdata/data/view.do?currMenu=115&topMenu=100&dataSetSn=619 접속 후 데이터 중 라벨링데이터만 다운로드 받아 압축 해제\n",
    "2. 현재 위치에 data 폴더 생성 후 안에 train_original, valid_original 라는 이름으로 저장"
   ]
  },
  {
   "cell_type": "code",
   "execution_count": 1,
   "metadata": {},
   "outputs": [],
   "source": [
    "import csv\n",
    "import json\n",
    "import pandas as pd\n",
    "from glob import glob\n",
    "from tqdm import tqdm"
   ]
  },
  {
   "cell_type": "code",
   "execution_count": 2,
   "metadata": {},
   "outputs": [],
   "source": [
    "def create_csv(target: str, half: bool = False):\n",
    "    print(f\"--- create {target} data (half={half}) ---\")\n",
    "    \n",
    "    if half:\n",
    "        json_paths = sorted(glob(f\"./data/{target}_original/*/*.json\", recursive=True))[:9]\n",
    "        csv_path = f\"./data/{target}_half.csv\"\n",
    "    else:\n",
    "        json_paths = sorted(glob(f\"./data/{target}_original/*/*.json\", recursive=True))\n",
    "        csv_path = f\"./data/{target}.csv\"\n",
    "\n",
    "    # Write headers\n",
    "    with open(csv_path, \"w\") as f:\n",
    "        writer = csv.writer(f)\n",
    "        writer.writerow([\"text\", \"label\"])\n",
    "\n",
    "    # Wirte rows\n",
    "    for idx, json_path in tqdm(enumerate(json_paths)):\n",
    "        with open(json_path, \"r\") as f:\n",
    "            json_dict = json.load(f)\n",
    "        with open(csv_path, \"a\") as f:\n",
    "            writer = csv.writer(f)\n",
    "            for doc in json_dict[\"documents\"]:\n",
    "                sequence = doc[\"Q_refined\"].replace(\"\\n\", \"\").strip()\n",
    "                if sequence:\n",
    "                    writer.writerow([sequence, idx])\n",
    "\n",
    "    df = pd.read_csv(csv_path)\n",
    "    print(f\"Data size: {len(df)}\")"
   ]
  },
  {
   "cell_type": "code",
   "execution_count": 3,
   "metadata": {},
   "outputs": [],
   "source": [
    "def create_id_to_label(half: bool = False):\n",
    "    print(f\"--- create id to label (half={half}) ---\")\n",
    "\n",
    "    if half:\n",
    "        dirs = sorted(glob(f\"./data/train_original/*\"))[:9]\n",
    "        csv_path = \"./data/id_to_label_half.csv\"\n",
    "    else:\n",
    "        dirs = sorted(glob(f\"./data/train_original/*\"))\n",
    "        csv_path = \"./data/id_to_label.csv\"\n",
    "\n",
    "    labels = [dir.split(\"/\")[-1] for dir in dirs]\n",
    "\n",
    "    with open(csv_path, \"w\") as f:\n",
    "        writer = csv.writer(f)\n",
    "        writer.writerow([\"id\", \"label\"])\n",
    "        for id, label in tqdm(enumerate(labels)):\n",
    "            writer.writerow([id, label])"
   ]
  },
  {
   "cell_type": "code",
   "execution_count": 4,
   "metadata": {},
   "outputs": [
    {
     "name": "stdout",
     "output_type": "stream",
     "text": [
      "--- create id to label (half=False) ---\n"
     ]
    },
    {
     "name": "stderr",
     "output_type": "stream",
     "text": [
      "18it [00:00, 193583.26it/s]\n"
     ]
    },
    {
     "name": "stdout",
     "output_type": "stream",
     "text": [
      "--- create id to label (half=True) ---\n"
     ]
    },
    {
     "name": "stderr",
     "output_type": "stream",
     "text": [
      "9it [00:00, 346318.68it/s]\n"
     ]
    },
    {
     "name": "stdout",
     "output_type": "stream",
     "text": [
      "--- create train data (half=False) ---\n"
     ]
    },
    {
     "name": "stderr",
     "output_type": "stream",
     "text": [
      "18it [00:10,  1.67it/s]\n"
     ]
    },
    {
     "name": "stdout",
     "output_type": "stream",
     "text": [
      "Data size: 799997\n",
      "--- create train data (half=True) ---\n"
     ]
    },
    {
     "name": "stderr",
     "output_type": "stream",
     "text": [
      "9it [00:03,  2.43it/s]\n"
     ]
    },
    {
     "name": "stdout",
     "output_type": "stream",
     "text": [
      "Data size: 285532\n",
      "--- create valid data (half=False) ---\n"
     ]
    },
    {
     "name": "stderr",
     "output_type": "stream",
     "text": [
      "18it [00:01, 16.67it/s]\n"
     ]
    },
    {
     "name": "stdout",
     "output_type": "stream",
     "text": [
      "Data size: 100000\n",
      "--- create valid data (half=True) ---\n"
     ]
    },
    {
     "name": "stderr",
     "output_type": "stream",
     "text": [
      "9it [00:00, 24.19it/s]"
     ]
    },
    {
     "name": "stdout",
     "output_type": "stream",
     "text": [
      "Data size: 35692\n"
     ]
    },
    {
     "name": "stderr",
     "output_type": "stream",
     "text": [
      "\n"
     ]
    }
   ],
   "source": [
    "# Create id_to_label.csv\n",
    "create_id_to_label()\n",
    "create_id_to_label(half=True)\n",
    "\n",
    "# Create train.csv\n",
    "create_csv(target=\"train\")\n",
    "create_csv(target=\"train\", half=True)\n",
    "\n",
    "# Create valid.csv\n",
    "create_csv(target=\"valid\")\n",
    "create_csv(target=\"valid\", half=True)"
   ]
  }
 ],
 "metadata": {
  "kernelspec": {
   "display_name": "base",
   "language": "python",
   "name": "python3"
  },
  "language_info": {
   "codemirror_mode": {
    "name": "ipython",
    "version": 3
   },
   "file_extension": ".py",
   "mimetype": "text/x-python",
   "name": "python",
   "nbconvert_exporter": "python",
   "pygments_lexer": "ipython3",
   "version": "3.10.11"
  },
  "orig_nbformat": 4
 },
 "nbformat": 4,
 "nbformat_minor": 2
}
