{
 "cells": [
  {
   "cell_type": "code",
   "execution_count": 67,
   "metadata": {},
   "outputs": [],
   "source": [
    "import pandas as pd\n",
    "from transformers import pipeline"
   ]
  },
  {
   "cell_type": "code",
   "execution_count": 68,
   "metadata": {},
   "outputs": [],
   "source": [
    "epoch = 0\n",
    "number_sample = 5"
   ]
  },
  {
   "cell_type": "code",
   "execution_count": 69,
   "metadata": {},
   "outputs": [],
   "source": [
    "df = pd.read_csv(\"./data/valid.csv\")\n",
    "id_to_label = pd.read_csv(\"./data/id_to_label.csv\")\n",
    "id2label = id_to_label[\"label\"].to_list()"
   ]
  },
  {
   "cell_type": "code",
   "execution_count": 70,
   "metadata": {},
   "outputs": [],
   "source": [
    "pretrained_model = \"classla/xlm-roberta-base-multilingual-text-genre-classifier\"\n",
    "finetuned_model = f\"./models/epoch-{epoch}\"\n",
    "classifier = pipeline(task=\"text-classification\", model=finetuned_model, tokenizer=pretrained_model)"
   ]
  },
  {
   "cell_type": "code",
   "execution_count": 71,
   "metadata": {},
   "outputs": [],
   "source": [
    "samples = df.sample(n=number_sample)\n",
    "texts = samples[\"text\"].to_list()\n",
    "labels = [id2label[int(id)] for id in samples[\"label\"].to_list()]\n",
    "infer_results = classifier(texts)"
   ]
  },
  {
   "cell_type": "code",
   "execution_count": 72,
   "metadata": {},
   "outputs": [
    {
     "name": "stdout",
     "output_type": "stream",
     "text": [
      "Text: 불법주정차된 차들때문에 사고가 날거 같아요. 창원 불법주차된 차량을 견인조치나 과태료 부탁드립니다.\n",
      "Label: 교통\n",
      "Infered Label: 정보통신\n",
      "Score: 0.08218605071306229\n",
      "\n",
      "Text: 경상남도 빈집 리모델링 지원사업 입주자 모집 신청 결과 알 수 있나요?\n",
      "Label: 건축허가\n",
      "Infered Label: 세무\n",
      "Score: 0.088675357401371\n",
      "\n",
      "Text: 창원 대방동 소화전 불법 주정차 신고해요.\n",
      "Label: 교통\n",
      "Infered Label: 정보통신\n",
      "Score: 0.07952487468719482\n",
      "\n",
      "Text: 창원시 #@주소#번길에 불법으로 주정차하는 차량 단속 및 빠른 조치를 해 주십시오.\n",
      "Label: 자동차\n",
      "Infered Label: 자동차\n",
      "Score: 0.10952898114919662\n",
      "\n",
      "Text: 회원구 내서읍 안성로 전체 제설작업을 요청합니다.\n",
      "Label: 안전건설\n",
      "Infered Label: 정보통신\n",
      "Score: 0.0857844427227974\n",
      "\n"
     ]
    }
   ],
   "source": [
    "for i in range(number_sample):\n",
    "    print(f\"Text: {texts[i]}\\n\"\n",
    "          f\"Label: {labels[i]}\\n\"\n",
    "          f\"Infered Label: {infer_results[i]['label']}\\n\"\n",
    "          f\"Score: {infer_results[i]['score']}\\n\")"
   ]
  }
 ],
 "metadata": {
  "kernelspec": {
   "display_name": "torch201",
   "language": "python",
   "name": "python3"
  },
  "language_info": {
   "codemirror_mode": {
    "name": "ipython",
    "version": 3
   },
   "file_extension": ".py",
   "mimetype": "text/x-python",
   "name": "python",
   "nbconvert_exporter": "python",
   "pygments_lexer": "ipython3",
   "version": "3.10.11"
  },
  "orig_nbformat": 4
 },
 "nbformat": 4,
 "nbformat_minor": 2
}
